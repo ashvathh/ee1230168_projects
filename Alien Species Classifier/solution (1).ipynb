{
  "nbformat": 4,
  "nbformat_minor": 0,
  "metadata": {
    "colab": {
      "provenance": []
    },
    "kernelspec": {
      "name": "python3",
      "display_name": "Python 3"
    },
    "language_info": {
      "name": "python"
    }
  },
  "cells": [
    {
      "cell_type": "code",
      "execution_count": null,
      "metadata": {
        "colab": {
          "base_uri": "https://localhost:8080/"
        },
        "id": "VrycI5sxAlxg",
        "outputId": "61d7f781-c78f-4d8a-9ac0-9947dbe17448"
      },
      "outputs": [
        {
          "output_type": "stream",
          "name": "stdout",
          "text": [
            "Requirement already satisfied: pandas in /usr/local/lib/python3.10/dist-packages (2.1.4)\n",
            "Requirement already satisfied: scikit-learn in /usr/local/lib/python3.10/dist-packages (1.5.2)\n",
            "Requirement already satisfied: xgboost in /usr/local/lib/python3.10/dist-packages (2.1.1)\n",
            "Requirement already satisfied: matplotlib in /usr/local/lib/python3.10/dist-packages (3.7.1)\n",
            "Requirement already satisfied: numpy<2,>=1.22.4 in /usr/local/lib/python3.10/dist-packages (from pandas) (1.26.4)\n",
            "Requirement already satisfied: python-dateutil>=2.8.2 in /usr/local/lib/python3.10/dist-packages (from pandas) (2.8.2)\n",
            "Requirement already satisfied: pytz>=2020.1 in /usr/local/lib/python3.10/dist-packages (from pandas) (2024.2)\n",
            "Requirement already satisfied: tzdata>=2022.1 in /usr/local/lib/python3.10/dist-packages (from pandas) (2024.1)\n",
            "Requirement already satisfied: scipy>=1.6.0 in /usr/local/lib/python3.10/dist-packages (from scikit-learn) (1.13.1)\n",
            "Requirement already satisfied: joblib>=1.2.0 in /usr/local/lib/python3.10/dist-packages (from scikit-learn) (1.4.2)\n",
            "Requirement already satisfied: threadpoolctl>=3.1.0 in /usr/local/lib/python3.10/dist-packages (from scikit-learn) (3.5.0)\n",
            "Requirement already satisfied: nvidia-nccl-cu12 in /usr/local/lib/python3.10/dist-packages (from xgboost) (2.23.4)\n",
            "Requirement already satisfied: contourpy>=1.0.1 in /usr/local/lib/python3.10/dist-packages (from matplotlib) (1.3.0)\n",
            "Requirement already satisfied: cycler>=0.10 in /usr/local/lib/python3.10/dist-packages (from matplotlib) (0.12.1)\n",
            "Requirement already satisfied: fonttools>=4.22.0 in /usr/local/lib/python3.10/dist-packages (from matplotlib) (4.53.1)\n",
            "Requirement already satisfied: kiwisolver>=1.0.1 in /usr/local/lib/python3.10/dist-packages (from matplotlib) (1.4.7)\n",
            "Requirement already satisfied: packaging>=20.0 in /usr/local/lib/python3.10/dist-packages (from matplotlib) (24.1)\n",
            "Requirement already satisfied: pillow>=6.2.0 in /usr/local/lib/python3.10/dist-packages (from matplotlib) (10.4.0)\n",
            "Requirement already satisfied: pyparsing>=2.3.1 in /usr/local/lib/python3.10/dist-packages (from matplotlib) (3.1.4)\n",
            "Requirement already satisfied: six>=1.5 in /usr/local/lib/python3.10/dist-packages (from python-dateutil>=2.8.2->pandas) (1.16.0)\n"
          ]
        }
      ],
      "source": [
        "!pip install pandas scikit-learn xgboost matplotlib"
      ]
    },
    {
      "cell_type": "code",
      "source": [
        "import pandas as pd\n",
        "df = pd.read_csv('data.csv')\n",
        "test_df=pd.read_csv('test.csv')\n",
        "test_df_copy=test_df.copy()\n",
        "print(df.head())"
      ],
      "metadata": {
        "colab": {
          "base_uri": "https://localhost:8080/"
        },
        "id": "pCSgkD9OBCCK",
        "outputId": "d8e3571c-fe7e-4ad8-b35b-dc8d35c228e0"
      },
      "execution_count": null,
      "outputs": [
        {
          "output_type": "stream",
          "name": "stdout",
          "text": [
            "                                    message  fingers tail  species\n",
            "0                        pluvia arbor aquos        4   no   Aquari\n",
            "1                 cosmix xeno nebuz odbitaz        5  yes  Zorblax\n",
            "2        solarix glixx novum galaxum quasar        5  yes  Zorblax\n",
            "3  arbor insectus pesros ekos dootix nimbus        2  yes  Florian\n",
            "4         mermax drakos lorix epikoz deftax        4   no   Faerix\n"
          ]
        }
      ]
    },
    {
      "cell_type": "code",
      "source": [
        "from sklearn.feature_extraction.text import TfidfVectorizer\n",
        "\n",
        "# using tf-idf vectorizer\n",
        "tfidf = TfidfVectorizer(max_features=120)  # optimum came to be around 120 by testing tfid function with multiple values and comparing the training and test accuracy\n",
        "\n",
        "# transforming the message field into tfidf features\n",
        "X_text = tfidf.fit_transform(df['message'])\n",
        "X_test_text=tfidf.transform(test_df['message'])\n",
        "\n",
        "print(X_text.shape)\n"
      ],
      "metadata": {
        "colab": {
          "base_uri": "https://localhost:8080/"
        },
        "id": "xe80Wrv5BGwc",
        "outputId": "7b594960-9413-420d-baa4-a52c089bf834"
      },
      "execution_count": null,
      "outputs": [
        {
          "output_type": "stream",
          "name": "stdout",
          "text": [
            "(500, 120)\n"
          ]
        }
      ]
    },
    {
      "cell_type": "code",
      "source": [
        "from sklearn.preprocessing import LabelEncoder\n",
        "\n",
        "# one hot encoding\n",
        "label_encoder = LabelEncoder()\n",
        "df['tail_encoded'] = label_encoder.fit_transform(df['tail'])  # encodes yes no as 1/0\n",
        "test_df['tail_encoded']=label_encoder.transform(test_df['tail'])\n",
        "df=df.drop('tail',axis=1)"
      ],
      "metadata": {
        "id": "wrvTzTCpBNJO"
      },
      "execution_count": null,
      "outputs": []
    },
    {
      "cell_type": "code",
      "source": [
        "df.head()"
      ],
      "metadata": {
        "colab": {
          "base_uri": "https://localhost:8080/",
          "height": 206
        },
        "id": "mYGrNpBpBXav",
        "outputId": "659a73cb-fcdd-43ac-84b2-61763709d6a1"
      },
      "execution_count": null,
      "outputs": [
        {
          "output_type": "execute_result",
          "data": {
            "text/plain": [
              "                                    message  fingers  species  tail_encoded\n",
              "0                        pluvia arbor aquos        4   Aquari             0\n",
              "1                 cosmix xeno nebuz odbitaz        5  Zorblax             1\n",
              "2        solarix glixx novum galaxum quasar        5  Zorblax             1\n",
              "3  arbor insectus pesros ekos dootix nimbus        2  Florian             1\n",
              "4         mermax drakos lorix epikoz deftax        4   Faerix             0"
            ],
            "text/html": [
              "\n",
              "  <div id=\"df-e3e8a6f0-8a2a-4a4e-8dd1-d957376ec85e\" class=\"colab-df-container\">\n",
              "    <div>\n",
              "<style scoped>\n",
              "    .dataframe tbody tr th:only-of-type {\n",
              "        vertical-align: middle;\n",
              "    }\n",
              "\n",
              "    .dataframe tbody tr th {\n",
              "        vertical-align: top;\n",
              "    }\n",
              "\n",
              "    .dataframe thead th {\n",
              "        text-align: right;\n",
              "    }\n",
              "</style>\n",
              "<table border=\"1\" class=\"dataframe\">\n",
              "  <thead>\n",
              "    <tr style=\"text-align: right;\">\n",
              "      <th></th>\n",
              "      <th>message</th>\n",
              "      <th>fingers</th>\n",
              "      <th>species</th>\n",
              "      <th>tail_encoded</th>\n",
              "    </tr>\n",
              "  </thead>\n",
              "  <tbody>\n",
              "    <tr>\n",
              "      <th>0</th>\n",
              "      <td>pluvia arbor aquos</td>\n",
              "      <td>4</td>\n",
              "      <td>Aquari</td>\n",
              "      <td>0</td>\n",
              "    </tr>\n",
              "    <tr>\n",
              "      <th>1</th>\n",
              "      <td>cosmix xeno nebuz odbitaz</td>\n",
              "      <td>5</td>\n",
              "      <td>Zorblax</td>\n",
              "      <td>1</td>\n",
              "    </tr>\n",
              "    <tr>\n",
              "      <th>2</th>\n",
              "      <td>solarix glixx novum galaxum quasar</td>\n",
              "      <td>5</td>\n",
              "      <td>Zorblax</td>\n",
              "      <td>1</td>\n",
              "    </tr>\n",
              "    <tr>\n",
              "      <th>3</th>\n",
              "      <td>arbor insectus pesros ekos dootix nimbus</td>\n",
              "      <td>2</td>\n",
              "      <td>Florian</td>\n",
              "      <td>1</td>\n",
              "    </tr>\n",
              "    <tr>\n",
              "      <th>4</th>\n",
              "      <td>mermax drakos lorix epikoz deftax</td>\n",
              "      <td>4</td>\n",
              "      <td>Faerix</td>\n",
              "      <td>0</td>\n",
              "    </tr>\n",
              "  </tbody>\n",
              "</table>\n",
              "</div>\n",
              "    <div class=\"colab-df-buttons\">\n",
              "\n",
              "  <div class=\"colab-df-container\">\n",
              "    <button class=\"colab-df-convert\" onclick=\"convertToInteractive('df-e3e8a6f0-8a2a-4a4e-8dd1-d957376ec85e')\"\n",
              "            title=\"Convert this dataframe to an interactive table.\"\n",
              "            style=\"display:none;\">\n",
              "\n",
              "  <svg xmlns=\"http://www.w3.org/2000/svg\" height=\"24px\" viewBox=\"0 -960 960 960\">\n",
              "    <path d=\"M120-120v-720h720v720H120Zm60-500h600v-160H180v160Zm220 220h160v-160H400v160Zm0 220h160v-160H400v160ZM180-400h160v-160H180v160Zm440 0h160v-160H620v160ZM180-180h160v-160H180v160Zm440 0h160v-160H620v160Z\"/>\n",
              "  </svg>\n",
              "    </button>\n",
              "\n",
              "  <style>\n",
              "    .colab-df-container {\n",
              "      display:flex;\n",
              "      gap: 12px;\n",
              "    }\n",
              "\n",
              "    .colab-df-convert {\n",
              "      background-color: #E8F0FE;\n",
              "      border: none;\n",
              "      border-radius: 50%;\n",
              "      cursor: pointer;\n",
              "      display: none;\n",
              "      fill: #1967D2;\n",
              "      height: 32px;\n",
              "      padding: 0 0 0 0;\n",
              "      width: 32px;\n",
              "    }\n",
              "\n",
              "    .colab-df-convert:hover {\n",
              "      background-color: #E2EBFA;\n",
              "      box-shadow: 0px 1px 2px rgba(60, 64, 67, 0.3), 0px 1px 3px 1px rgba(60, 64, 67, 0.15);\n",
              "      fill: #174EA6;\n",
              "    }\n",
              "\n",
              "    .colab-df-buttons div {\n",
              "      margin-bottom: 4px;\n",
              "    }\n",
              "\n",
              "    [theme=dark] .colab-df-convert {\n",
              "      background-color: #3B4455;\n",
              "      fill: #D2E3FC;\n",
              "    }\n",
              "\n",
              "    [theme=dark] .colab-df-convert:hover {\n",
              "      background-color: #434B5C;\n",
              "      box-shadow: 0px 1px 3px 1px rgba(0, 0, 0, 0.15);\n",
              "      filter: drop-shadow(0px 1px 2px rgba(0, 0, 0, 0.3));\n",
              "      fill: #FFFFFF;\n",
              "    }\n",
              "  </style>\n",
              "\n",
              "    <script>\n",
              "      const buttonEl =\n",
              "        document.querySelector('#df-e3e8a6f0-8a2a-4a4e-8dd1-d957376ec85e button.colab-df-convert');\n",
              "      buttonEl.style.display =\n",
              "        google.colab.kernel.accessAllowed ? 'block' : 'none';\n",
              "\n",
              "      async function convertToInteractive(key) {\n",
              "        const element = document.querySelector('#df-e3e8a6f0-8a2a-4a4e-8dd1-d957376ec85e');\n",
              "        const dataTable =\n",
              "          await google.colab.kernel.invokeFunction('convertToInteractive',\n",
              "                                                    [key], {});\n",
              "        if (!dataTable) return;\n",
              "\n",
              "        const docLinkHtml = 'Like what you see? Visit the ' +\n",
              "          '<a target=\"_blank\" href=https://colab.research.google.com/notebooks/data_table.ipynb>data table notebook</a>'\n",
              "          + ' to learn more about interactive tables.';\n",
              "        element.innerHTML = '';\n",
              "        dataTable['output_type'] = 'display_data';\n",
              "        await google.colab.output.renderOutput(dataTable, element);\n",
              "        const docLink = document.createElement('div');\n",
              "        docLink.innerHTML = docLinkHtml;\n",
              "        element.appendChild(docLink);\n",
              "      }\n",
              "    </script>\n",
              "  </div>\n",
              "\n",
              "\n",
              "<div id=\"df-4d5f3ff6-937e-4be3-b760-8236b2ebd6d7\">\n",
              "  <button class=\"colab-df-quickchart\" onclick=\"quickchart('df-4d5f3ff6-937e-4be3-b760-8236b2ebd6d7')\"\n",
              "            title=\"Suggest charts\"\n",
              "            style=\"display:none;\">\n",
              "\n",
              "<svg xmlns=\"http://www.w3.org/2000/svg\" height=\"24px\"viewBox=\"0 0 24 24\"\n",
              "     width=\"24px\">\n",
              "    <g>\n",
              "        <path d=\"M19 3H5c-1.1 0-2 .9-2 2v14c0 1.1.9 2 2 2h14c1.1 0 2-.9 2-2V5c0-1.1-.9-2-2-2zM9 17H7v-7h2v7zm4 0h-2V7h2v10zm4 0h-2v-4h2v4z\"/>\n",
              "    </g>\n",
              "</svg>\n",
              "  </button>\n",
              "\n",
              "<style>\n",
              "  .colab-df-quickchart {\n",
              "      --bg-color: #E8F0FE;\n",
              "      --fill-color: #1967D2;\n",
              "      --hover-bg-color: #E2EBFA;\n",
              "      --hover-fill-color: #174EA6;\n",
              "      --disabled-fill-color: #AAA;\n",
              "      --disabled-bg-color: #DDD;\n",
              "  }\n",
              "\n",
              "  [theme=dark] .colab-df-quickchart {\n",
              "      --bg-color: #3B4455;\n",
              "      --fill-color: #D2E3FC;\n",
              "      --hover-bg-color: #434B5C;\n",
              "      --hover-fill-color: #FFFFFF;\n",
              "      --disabled-bg-color: #3B4455;\n",
              "      --disabled-fill-color: #666;\n",
              "  }\n",
              "\n",
              "  .colab-df-quickchart {\n",
              "    background-color: var(--bg-color);\n",
              "    border: none;\n",
              "    border-radius: 50%;\n",
              "    cursor: pointer;\n",
              "    display: none;\n",
              "    fill: var(--fill-color);\n",
              "    height: 32px;\n",
              "    padding: 0;\n",
              "    width: 32px;\n",
              "  }\n",
              "\n",
              "  .colab-df-quickchart:hover {\n",
              "    background-color: var(--hover-bg-color);\n",
              "    box-shadow: 0 1px 2px rgba(60, 64, 67, 0.3), 0 1px 3px 1px rgba(60, 64, 67, 0.15);\n",
              "    fill: var(--button-hover-fill-color);\n",
              "  }\n",
              "\n",
              "  .colab-df-quickchart-complete:disabled,\n",
              "  .colab-df-quickchart-complete:disabled:hover {\n",
              "    background-color: var(--disabled-bg-color);\n",
              "    fill: var(--disabled-fill-color);\n",
              "    box-shadow: none;\n",
              "  }\n",
              "\n",
              "  .colab-df-spinner {\n",
              "    border: 2px solid var(--fill-color);\n",
              "    border-color: transparent;\n",
              "    border-bottom-color: var(--fill-color);\n",
              "    animation:\n",
              "      spin 1s steps(1) infinite;\n",
              "  }\n",
              "\n",
              "  @keyframes spin {\n",
              "    0% {\n",
              "      border-color: transparent;\n",
              "      border-bottom-color: var(--fill-color);\n",
              "      border-left-color: var(--fill-color);\n",
              "    }\n",
              "    20% {\n",
              "      border-color: transparent;\n",
              "      border-left-color: var(--fill-color);\n",
              "      border-top-color: var(--fill-color);\n",
              "    }\n",
              "    30% {\n",
              "      border-color: transparent;\n",
              "      border-left-color: var(--fill-color);\n",
              "      border-top-color: var(--fill-color);\n",
              "      border-right-color: var(--fill-color);\n",
              "    }\n",
              "    40% {\n",
              "      border-color: transparent;\n",
              "      border-right-color: var(--fill-color);\n",
              "      border-top-color: var(--fill-color);\n",
              "    }\n",
              "    60% {\n",
              "      border-color: transparent;\n",
              "      border-right-color: var(--fill-color);\n",
              "    }\n",
              "    80% {\n",
              "      border-color: transparent;\n",
              "      border-right-color: var(--fill-color);\n",
              "      border-bottom-color: var(--fill-color);\n",
              "    }\n",
              "    90% {\n",
              "      border-color: transparent;\n",
              "      border-bottom-color: var(--fill-color);\n",
              "    }\n",
              "  }\n",
              "</style>\n",
              "\n",
              "  <script>\n",
              "    async function quickchart(key) {\n",
              "      const quickchartButtonEl =\n",
              "        document.querySelector('#' + key + ' button');\n",
              "      quickchartButtonEl.disabled = true;  // To prevent multiple clicks.\n",
              "      quickchartButtonEl.classList.add('colab-df-spinner');\n",
              "      try {\n",
              "        const charts = await google.colab.kernel.invokeFunction(\n",
              "            'suggestCharts', [key], {});\n",
              "      } catch (error) {\n",
              "        console.error('Error during call to suggestCharts:', error);\n",
              "      }\n",
              "      quickchartButtonEl.classList.remove('colab-df-spinner');\n",
              "      quickchartButtonEl.classList.add('colab-df-quickchart-complete');\n",
              "    }\n",
              "    (() => {\n",
              "      let quickchartButtonEl =\n",
              "        document.querySelector('#df-4d5f3ff6-937e-4be3-b760-8236b2ebd6d7 button');\n",
              "      quickchartButtonEl.style.display =\n",
              "        google.colab.kernel.accessAllowed ? 'block' : 'none';\n",
              "    })();\n",
              "  </script>\n",
              "</div>\n",
              "\n",
              "    </div>\n",
              "  </div>\n"
            ],
            "application/vnd.google.colaboratory.intrinsic+json": {
              "type": "dataframe",
              "variable_name": "df",
              "summary": "{\n  \"name\": \"df\",\n  \"rows\": 500,\n  \"fields\": [\n    {\n      \"column\": \"message\",\n      \"properties\": {\n        \"dtype\": \"string\",\n        \"num_unique_values\": 500,\n        \"samples\": [\n          \"unikor tetanos mermax epikoz fabulon\",\n          \"eiikoz sirenix goblax centarex relikum dbakos\",\n          \"blissam calmox blissam febrix\"\n        ],\n        \"semantic_type\": \"\",\n        \"description\": \"\"\n      }\n    },\n    {\n      \"column\": \"fingers\",\n      \"properties\": {\n        \"dtype\": \"number\",\n        \"std\": 1,\n        \"min\": 0,\n        \"max\": 9,\n        \"num_unique_values\": 10,\n        \"samples\": [\n          0,\n          5,\n          7\n        ],\n        \"semantic_type\": \"\",\n        \"description\": \"\"\n      }\n    },\n    {\n      \"column\": \"species\",\n      \"properties\": {\n        \"dtype\": \"category\",\n        \"num_unique_values\": 10,\n        \"samples\": [\n          \"Quixnar\",\n          \"Zorblax\",\n          \"Mythron\"\n        ],\n        \"semantic_type\": \"\",\n        \"description\": \"\"\n      }\n    },\n    {\n      \"column\": \"tail_encoded\",\n      \"properties\": {\n        \"dtype\": \"number\",\n        \"std\": 0,\n        \"min\": 0,\n        \"max\": 1,\n        \"num_unique_values\": 2,\n        \"samples\": [\n          1,\n          0\n        ],\n        \"semantic_type\": \"\",\n        \"description\": \"\"\n      }\n    }\n  ]\n}"
            }
          },
          "metadata": {},
          "execution_count": 56
        }
      ]
    },
    {
      "cell_type": "code",
      "source": [
        "import numpy as np\n",
        "from scipy.sparse import hstack\n",
        "\n",
        "# features\n",
        "X = hstack((X_text, df[['fingers', 'tail_encoded']].values))\n",
        "X_test_data=hstack((X_test_text,test_df[['fingers','tail_encoded']].values))\n",
        "#this stacks the sparce matrix of X-test and dense array side by side to provide a comprehensive view of the data\n",
        "y = df['species']#selecting the target column from the panda df\n"
      ],
      "metadata": {
        "id": "Xouw_160BZrr"
      },
      "execution_count": null,
      "outputs": []
    },
    {
      "cell_type": "code",
      "source": [
        "from sklearn.preprocessing import LabelEncoder\n",
        "\n",
        "label_encoder_species = LabelEncoder()\n",
        "\n",
        "# transforming the species column into numeric form so that we can train it using xgboost\n",
        "y_encoded = label_encoder_species.fit_transform(y)\n",
        "\n",
        "print(y_encoded[:5])  # for getting a preview of the target values\n"
      ],
      "metadata": {
        "colab": {
          "base_uri": "https://localhost:8080/"
        },
        "id": "ltOCdoKfCcGZ",
        "outputId": "0583b5b7-3d37-45de-cc65-201e49f7878b"
      },
      "execution_count": null,
      "outputs": [
        {
          "output_type": "stream",
          "name": "stdout",
          "text": [
            "[0 9 9 4 3]\n"
          ]
        }
      ]
    },
    {
      "cell_type": "code",
      "source": [
        "from sklearn.model_selection import train_test_split\n",
        "\n",
        "# train test splitting of the data\n",
        "X_train, X_test, y_train, y_test = train_test_split(X, y_encoded, test_size=0.2, random_state=42)\n",
        "\n",
        "print(f\"Training set shape: {X_train.shape}, Test set shape: {X_test.shape}\")\n"
      ],
      "metadata": {
        "colab": {
          "base_uri": "https://localhost:8080/"
        },
        "id": "p7RoCng7BkAG",
        "outputId": "9b936d14-4384-4a73-92ca-0e426ac9ef78"
      },
      "execution_count": null,
      "outputs": [
        {
          "output_type": "stream",
          "name": "stdout",
          "text": [
            "Training set shape: (400, 122), Test set shape: (100, 122)\n"
          ]
        }
      ]
    },
    {
      "cell_type": "code",
      "source": [
        "from sklearn.ensemble import RandomForestClassifier\n",
        "\n",
        "rf = RandomForestClassifier(n_estimators=100, random_state=42) #we use random forest classifier to train this model\n",
        "\n",
        "rf.fit(X_train, y_train) #we fit the training data in the model\n",
        "\n",
        "#evaluation of the accuracy of the model\n",
        "print(f\"Training accuracy: {rf.score(X_train, y_train):.2f}\")\n",
        "print(f\"Testing accuracy: {rf.score(X_test, y_test):.2f}\")\n"
      ],
      "metadata": {
        "colab": {
          "base_uri": "https://localhost:8080/"
        },
        "id": "UIUIuf13Bql_",
        "outputId": "971b6d5a-11c2-40a6-99bc-e46590afc4c6"
      },
      "execution_count": null,
      "outputs": [
        {
          "output_type": "stream",
          "name": "stdout",
          "text": [
            "Training accuracy: 1.00\n",
            "Testing accuracy: 0.85\n"
          ]
        }
      ]
    },
    {
      "cell_type": "code",
      "source": [
        "#we also try to use xgboost classifier to perform the classification\n",
        "import xgboost as xgb\n",
        "\n",
        "# initializing the model\n",
        "xgb_model = xgb.XGBClassifier(n_estimators=100, random_state=42)\n",
        "\n",
        "# training the model\n",
        "xgb_model.fit(X_train, y_train)\n",
        "\n",
        "# evaluating the accuracy of the new model\n",
        "print(f\"Training accuracy: {xgb_model.score(X_train, y_train):.2f}\")\n",
        "print(f\"Testing accuracy: {xgb_model.score(X_test, y_test):.2f}\")\n"
      ],
      "metadata": {
        "colab": {
          "base_uri": "https://localhost:8080/"
        },
        "id": "9j8uT3zpBtjb",
        "outputId": "3ac862d6-dfdb-41eb-d897-7768c902a705"
      },
      "execution_count": null,
      "outputs": [
        {
          "output_type": "stream",
          "name": "stdout",
          "text": [
            "Training accuracy: 1.00\n",
            "Testing accuracy: 0.81\n"
          ]
        }
      ]
    },
    {
      "cell_type": "markdown",
      "source": [
        "As it turns out, the accuracy of the random forest classifier has a better test data accuracy that the xgboost classifier. Hence we will use the random forest classifier to predict the species of the new data that is provided in the question."
      ],
      "metadata": {
        "id": "aFwEacWrQjH2"
      }
    },
    {
      "cell_type": "code",
      "source": [
        "from sklearn.metrics import classification_report, confusion_matrix\n",
        "\n",
        "# prediction on the test set using the trained random forest classifier 'rf'\n",
        "y_pred_rf = rf.predict(X_test)\n",
        "\n",
        "# generating a classification report\n",
        "print(classification_report(y_test, y_pred_rf))\n",
        "\n",
        "# printing the Confusion matrix\n",
        "print(confusion_matrix(y_test, y_pred_rf))\n"
      ],
      "metadata": {
        "colab": {
          "base_uri": "https://localhost:8080/"
        },
        "id": "4dTgGRAfBx04",
        "outputId": "a47e5e4d-00bb-4c3c-d770-f0f8a9046be6"
      },
      "execution_count": null,
      "outputs": [
        {
          "output_type": "stream",
          "name": "stdout",
          "text": [
            "              precision    recall  f1-score   support\n",
            "\n",
            "           0       0.67      1.00      0.80         4\n",
            "           1       0.86      1.00      0.92        12\n",
            "           2       0.80      1.00      0.89         8\n",
            "           3       0.79      0.79      0.79        14\n",
            "           4       1.00      0.78      0.88         9\n",
            "           5       0.70      0.70      0.70        10\n",
            "           6       1.00      0.71      0.83         7\n",
            "           7       0.92      0.86      0.89        14\n",
            "           8       1.00      0.78      0.88         9\n",
            "           9       0.86      0.92      0.89        13\n",
            "\n",
            "    accuracy                           0.85       100\n",
            "   macro avg       0.86      0.85      0.85       100\n",
            "weighted avg       0.86      0.85      0.85       100\n",
            "\n",
            "[[ 4  0  0  0  0  0  0  0  0  0]\n",
            " [ 0 12  0  0  0  0  0  0  0  0]\n",
            " [ 0  0  8  0  0  0  0  0  0  0]\n",
            " [ 0  0  0 11  0  3  0  0  0  0]\n",
            " [ 2  0  0  0  7  0  0  0  0  0]\n",
            " [ 0  0  0  3  0  7  0  0  0  0]\n",
            " [ 0  2  0  0  0  0  5  0  0  0]\n",
            " [ 0  0  0  0  0  0  0 12  0  2]\n",
            " [ 0  0  2  0  0  0  0  0  7  0]\n",
            " [ 0  0  0  0  0  0  0  1  0 12]]\n"
          ]
        }
      ]
    },
    {
      "cell_type": "code",
      "source": [
        "from sklearn.metrics import classification_report, confusion_matrix\n",
        "\n",
        "y_pred_xgb = xgb_model.predict(X_test) #prediction on the test set using the trained xgboost classifier 'xgb_model'\n",
        "\n",
        "#generating a classification report\n",
        "print(classification_report(y_test, y_pred_xgb))\n",
        "\n",
        "# printing the Confusion matrix\n",
        "print(confusion_matrix(y_test, y_pred_xgb))"
      ],
      "metadata": {
        "colab": {
          "base_uri": "https://localhost:8080/"
        },
        "id": "eKKV-vBaC_CC",
        "outputId": "761fd86a-8b30-4081-83bf-79563b5e4f33"
      },
      "execution_count": null,
      "outputs": [
        {
          "output_type": "stream",
          "name": "stdout",
          "text": [
            "              precision    recall  f1-score   support\n",
            "\n",
            "           0       0.57      1.00      0.73         4\n",
            "           1       0.92      0.92      0.92        12\n",
            "           2       0.80      1.00      0.89         8\n",
            "           3       0.79      0.79      0.79        14\n",
            "           4       1.00      0.67      0.80         9\n",
            "           5       0.78      0.70      0.74        10\n",
            "           6       0.75      0.86      0.80         7\n",
            "           7       0.72      0.93      0.81        14\n",
            "           8       1.00      0.78      0.88         9\n",
            "           9       0.89      0.62      0.73        13\n",
            "\n",
            "    accuracy                           0.81       100\n",
            "   macro avg       0.82      0.82      0.81       100\n",
            "weighted avg       0.83      0.81      0.81       100\n",
            "\n",
            "[[ 4  0  0  0  0  0  0  0  0  0]\n",
            " [ 0 11  0  0  0  0  1  0  0  0]\n",
            " [ 0  0  8  0  0  0  0  0  0  0]\n",
            " [ 0  0  0 11  0  2  0  1  0  0]\n",
            " [ 3  0  0  0  6  0  0  0  0  0]\n",
            " [ 0  0  0  3  0  7  0  0  0  0]\n",
            " [ 0  1  0  0  0  0  6  0  0  0]\n",
            " [ 0  0  0  0  0  0  0 13  0  1]\n",
            " [ 0  0  2  0  0  0  0  0  7  0]\n",
            " [ 0  0  0  0  0  0  1  4  0  8]]\n"
          ]
        }
      ]
    },
    {
      "cell_type": "code",
      "source": [
        "#As it turns out, the accuracy of the random forest classifier has a better test data accuracy that the xgboost classifier. Hence we will use the random forest classifier to predict the species of the new data that is provided in the question."
      ],
      "metadata": {
        "id": "u_XE6Ou5zTjp"
      },
      "execution_count": null,
      "outputs": []
    },
    {
      "cell_type": "code",
      "source": [
        "y_test_pred=rf.predict(X_test_data) # we predict the values in test.csv using the trained random forest classifier\n",
        "y_test_pred"
      ],
      "metadata": {
        "colab": {
          "base_uri": "https://localhost:8080/"
        },
        "id": "c9gxPcw42Txs",
        "outputId": "a09b41a2-e138-476e-ee16-7848b0f0f021"
      },
      "execution_count": null,
      "outputs": [
        {
          "output_type": "execute_result",
          "data": {
            "text/plain": [
              "array([0, 8, 6, 3, 6, 5, 5, 3, 2, 4, 5, 2, 9, 7, 5, 0, 4, 1, 0, 0, 9, 2,\n",
              "       7, 6, 5, 6, 0, 8, 2, 5, 1, 2, 5, 7, 5, 2, 0, 4, 0, 7, 2, 7, 5, 6,\n",
              "       0, 2, 9, 7, 9, 4, 2, 9, 8, 7, 2, 2, 8, 2, 5, 1, 1, 1, 5, 8, 8, 5,\n",
              "       8, 3, 6, 7, 7, 2, 8, 9, 2, 8, 1, 3, 6, 2, 2, 1, 2, 0, 1, 8, 3, 9,\n",
              "       6, 3, 8, 5, 7, 7, 8, 4, 5, 6, 2, 5, 1, 8, 8, 0, 6, 7, 0, 2, 9, 2,\n",
              "       2, 5, 0, 5, 0, 3, 5, 1, 3, 7, 5, 8, 1, 0, 7, 4, 1, 4, 7, 9, 6, 7,\n",
              "       3, 0, 8, 2, 1, 8, 6, 5, 1, 2, 7, 8, 7, 0, 2, 5, 0, 6, 2, 2, 0, 2,\n",
              "       0, 8, 0, 7, 4, 2, 2, 0, 6, 1, 6, 2, 0, 6, 5, 1, 5, 8, 9, 2, 1, 8,\n",
              "       4, 8, 4, 2, 2, 9, 0, 5, 3, 7, 2, 1, 6, 7, 8, 9, 5, 9, 1, 1, 5, 1,\n",
              "       1, 6, 1, 3, 8, 0, 5, 1, 5, 0, 7, 3, 5, 3, 9, 1, 0, 2, 4, 3, 6, 6,\n",
              "       0, 8, 6, 2, 0, 8, 2, 5, 0, 1, 3, 7, 0, 1, 1, 5, 1, 7, 3, 7, 7, 6,\n",
              "       5, 8, 7, 4, 4, 2, 0, 0, 7, 6, 4, 9, 7, 7, 0, 3, 1, 9, 5, 3, 9, 3,\n",
              "       9, 5, 6, 4, 7, 9, 1, 7, 2, 3, 3, 7, 7, 4, 1, 0, 8, 5, 8, 0, 2, 0,\n",
              "       1, 0, 0, 1, 7, 2, 2, 4, 5, 6, 5, 7, 2])"
            ]
          },
          "metadata": {},
          "execution_count": 65
        }
      ]
    },
    {
      "cell_type": "code",
      "source": [
        "species_decoded=label_encoder_species.inverse_transform(y_test_pred)#converting the numerical values back to the text format\n",
        "species_decoded"
      ],
      "metadata": {
        "colab": {
          "base_uri": "https://localhost:8080/"
        },
        "id": "pTv8KSkG2duv",
        "outputId": "4d1d346d-8432-404e-9216-4dd3bfa9ebff"
      },
      "execution_count": null,
      "outputs": [
        {
          "output_type": "execute_result",
          "data": {
            "text/plain": [
              "array(['Aquari', 'Sentire', 'Nexoon', 'Faerix', 'Nexoon', 'Mythron',\n",
              "       'Mythron', 'Faerix', 'Emotivor', 'Florian', 'Mythron', 'Emotivor',\n",
              "       'Zorblax', 'Quixnar', 'Mythron', 'Aquari', 'Florian', 'Cybex',\n",
              "       'Aquari', 'Aquari', 'Zorblax', 'Emotivor', 'Quixnar', 'Nexoon',\n",
              "       'Mythron', 'Nexoon', 'Aquari', 'Sentire', 'Emotivor', 'Mythron',\n",
              "       'Cybex', 'Emotivor', 'Mythron', 'Quixnar', 'Mythron', 'Emotivor',\n",
              "       'Aquari', 'Florian', 'Aquari', 'Quixnar', 'Emotivor', 'Quixnar',\n",
              "       'Mythron', 'Nexoon', 'Aquari', 'Emotivor', 'Zorblax', 'Quixnar',\n",
              "       'Zorblax', 'Florian', 'Emotivor', 'Zorblax', 'Sentire', 'Quixnar',\n",
              "       'Emotivor', 'Emotivor', 'Sentire', 'Emotivor', 'Mythron', 'Cybex',\n",
              "       'Cybex', 'Cybex', 'Mythron', 'Sentire', 'Sentire', 'Mythron',\n",
              "       'Sentire', 'Faerix', 'Nexoon', 'Quixnar', 'Quixnar', 'Emotivor',\n",
              "       'Sentire', 'Zorblax', 'Emotivor', 'Sentire', 'Cybex', 'Faerix',\n",
              "       'Nexoon', 'Emotivor', 'Emotivor', 'Cybex', 'Emotivor', 'Aquari',\n",
              "       'Cybex', 'Sentire', 'Faerix', 'Zorblax', 'Nexoon', 'Faerix',\n",
              "       'Sentire', 'Mythron', 'Quixnar', 'Quixnar', 'Sentire', 'Florian',\n",
              "       'Mythron', 'Nexoon', 'Emotivor', 'Mythron', 'Cybex', 'Sentire',\n",
              "       'Sentire', 'Aquari', 'Nexoon', 'Quixnar', 'Aquari', 'Emotivor',\n",
              "       'Zorblax', 'Emotivor', 'Emotivor', 'Mythron', 'Aquari', 'Mythron',\n",
              "       'Aquari', 'Faerix', 'Mythron', 'Cybex', 'Faerix', 'Quixnar',\n",
              "       'Mythron', 'Sentire', 'Cybex', 'Aquari', 'Quixnar', 'Florian',\n",
              "       'Cybex', 'Florian', 'Quixnar', 'Zorblax', 'Nexoon', 'Quixnar',\n",
              "       'Faerix', 'Aquari', 'Sentire', 'Emotivor', 'Cybex', 'Sentire',\n",
              "       'Nexoon', 'Mythron', 'Cybex', 'Emotivor', 'Quixnar', 'Sentire',\n",
              "       'Quixnar', 'Aquari', 'Emotivor', 'Mythron', 'Aquari', 'Nexoon',\n",
              "       'Emotivor', 'Emotivor', 'Aquari', 'Emotivor', 'Aquari', 'Sentire',\n",
              "       'Aquari', 'Quixnar', 'Florian', 'Emotivor', 'Emotivor', 'Aquari',\n",
              "       'Nexoon', 'Cybex', 'Nexoon', 'Emotivor', 'Aquari', 'Nexoon',\n",
              "       'Mythron', 'Cybex', 'Mythron', 'Sentire', 'Zorblax', 'Emotivor',\n",
              "       'Cybex', 'Sentire', 'Florian', 'Sentire', 'Florian', 'Emotivor',\n",
              "       'Emotivor', 'Zorblax', 'Aquari', 'Mythron', 'Faerix', 'Quixnar',\n",
              "       'Emotivor', 'Cybex', 'Nexoon', 'Quixnar', 'Sentire', 'Zorblax',\n",
              "       'Mythron', 'Zorblax', 'Cybex', 'Cybex', 'Mythron', 'Cybex',\n",
              "       'Cybex', 'Nexoon', 'Cybex', 'Faerix', 'Sentire', 'Aquari',\n",
              "       'Mythron', 'Cybex', 'Mythron', 'Aquari', 'Quixnar', 'Faerix',\n",
              "       'Mythron', 'Faerix', 'Zorblax', 'Cybex', 'Aquari', 'Emotivor',\n",
              "       'Florian', 'Faerix', 'Nexoon', 'Nexoon', 'Aquari', 'Sentire',\n",
              "       'Nexoon', 'Emotivor', 'Aquari', 'Sentire', 'Emotivor', 'Mythron',\n",
              "       'Aquari', 'Cybex', 'Faerix', 'Quixnar', 'Aquari', 'Cybex', 'Cybex',\n",
              "       'Mythron', 'Cybex', 'Quixnar', 'Faerix', 'Quixnar', 'Quixnar',\n",
              "       'Nexoon', 'Mythron', 'Sentire', 'Quixnar', 'Florian', 'Florian',\n",
              "       'Emotivor', 'Aquari', 'Aquari', 'Quixnar', 'Nexoon', 'Florian',\n",
              "       'Zorblax', 'Quixnar', 'Quixnar', 'Aquari', 'Faerix', 'Cybex',\n",
              "       'Zorblax', 'Mythron', 'Faerix', 'Zorblax', 'Faerix', 'Zorblax',\n",
              "       'Mythron', 'Nexoon', 'Florian', 'Quixnar', 'Zorblax', 'Cybex',\n",
              "       'Quixnar', 'Emotivor', 'Faerix', 'Faerix', 'Quixnar', 'Quixnar',\n",
              "       'Florian', 'Cybex', 'Aquari', 'Sentire', 'Mythron', 'Sentire',\n",
              "       'Aquari', 'Emotivor', 'Aquari', 'Cybex', 'Aquari', 'Aquari',\n",
              "       'Cybex', 'Quixnar', 'Emotivor', 'Emotivor', 'Florian', 'Mythron',\n",
              "       'Nexoon', 'Mythron', 'Quixnar', 'Emotivor'], dtype=object)"
            ]
          },
          "metadata": {},
          "execution_count": 66
        }
      ]
    },
    {
      "cell_type": "code",
      "source": [
        "print(type(species_decoded))#making sure that it is a numpy array"
      ],
      "metadata": {
        "colab": {
          "base_uri": "https://localhost:8080/"
        },
        "id": "lWxrhrII3OPe",
        "outputId": "3c04fdc2-1789-4b58-f9d3-bbc6df74f0ce"
      },
      "execution_count": null,
      "outputs": [
        {
          "output_type": "stream",
          "name": "stdout",
          "text": [
            "<class 'numpy.ndarray'>\n"
          ]
        }
      ]
    },
    {
      "cell_type": "code",
      "source": [
        "species_prediction_df=pd.DataFrame(species_decoded,columns=['species']) #converting the array into a pandas dataframe, and then putting this into prediction.csv\n",
        "species_prediction_df.to_csv('prediction.csv',index=False)#we only want one column so setting index column to false\n",
        "#exporting the results containing the various species name x to a file"
      ],
      "metadata": {
        "id": "MP-_r8zl34_y"
      },
      "execution_count": null,
      "outputs": []
    },
    {
      "cell_type": "code",
      "source": [],
      "metadata": {
        "id": "Xb-Fb9u84Is8"
      },
      "execution_count": null,
      "outputs": []
    }
  ]
}